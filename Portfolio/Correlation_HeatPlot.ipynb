{
 "cells": [
  {
   "cell_type": "code",
   "execution_count": null,
   "id": "9ced441d-73d7-4b4b-9a56-e0b6b5b79966",
   "metadata": {},
   "outputs": [],
   "source": [
    "import numpy as np\n",
    "import pandas as pd\n",
    "import pandas_datareader as web\n",
    "import yfinance as yf\n",
    "from datetime import datetime\n",
    "import matplotlib.pyplot as plt\n",
    "import seaborn"
   ]
  },
  {
   "cell_type": "code",
   "execution_count": null,
   "id": "df53e598-e7fc-4907-ab4d-0ba02e6d4cdb",
   "metadata": {},
   "outputs": [],
   "source": [
    "start = datetime(2017,1,1)\n",
    "tickers = ['AAPL','X','AMZN','GOOGL','GE','TSLA','IBM','PYPL']"
   ]
  },
  {
   "cell_type": "code",
   "execution_count": null,
   "id": "82ab5304-274f-4c97-a6a1-c2e57d8a0d37",
   "metadata": {},
   "outputs": [
    {
     "name": "stdout",
     "output_type": "stream",
     "text": [
      "YF.download() has changed argument auto_adjust default to True\n"
     ]
    },
    {
     "name": "stderr",
     "output_type": "stream",
     "text": [
      "[*********************100%***********************]  1 of 1 completed\n",
      "[*********************100%***********************]  1 of 1 completed\n",
      "[*********************100%***********************]  1 of 1 completed\n",
      "[*********************100%***********************]  1 of 1 completed\n"
     ]
    }
   ],
   "source": [
    "data = pd.DataFrame()\n",
    "for t in tickers:\n",
    "    data[t] = yf.download(t, start= '2017-01-01')['Close']\n",
    "data.head()\n"
   ]
  },
  {
   "cell_type": "code",
   "execution_count": null,
   "id": "68c5fdd0-adf2-49c8-8b82-e19eb06b56e0",
   "metadata": {},
   "outputs": [],
   "source": [
    "corr = data.corr(method='pearson')\n",
    "corr.head().reset_index()\n",
    "corr.head(10)"
   ]
  },
  {
   "cell_type": "code",
   "execution_count": null,
   "id": "668d5e07-2059-4ff0-9bcc-c3eb7a8f0821",
   "metadata": {},
   "outputs": [],
   "source": [
    "plt.figure(figsize=(13,8))\n",
    "seaborn.heatmap(corr, annot=True, cmap = 'RdYlGn')\n",
    "plt.figure()"
   ]
  },
  {
   "cell_type": "code",
   "execution_count": null,
   "id": "1b47f2f8-6fd5-4820-b585-de68a2208420",
   "metadata": {},
   "outputs": [],
   "source": []
  },
  {
   "cell_type": "code",
   "execution_count": null,
   "id": "52e96e12-23eb-48e3-bf9e-c1c44abf9cc6",
   "metadata": {},
   "outputs": [],
   "source": []
  }
 ],
 "metadata": {
  "kernelspec": {
   "display_name": "Python [conda env:base] *",
   "language": "python",
   "name": "conda-base-py"
  },
  "language_info": {
   "codemirror_mode": {
    "name": "ipython",
    "version": 3
   },
   "file_extension": ".py",
   "mimetype": "text/x-python",
   "name": "python",
   "nbconvert_exporter": "python",
   "pygments_lexer": "ipython3",
   "version": "3.12.7"
  }
 },
 "nbformat": 4,
 "nbformat_minor": 5
}
